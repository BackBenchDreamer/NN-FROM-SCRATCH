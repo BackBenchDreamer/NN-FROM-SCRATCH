{
 "cells": [
  {
   "cell_type": "markdown",
   "id": "d642f1b5",
   "metadata": {},
   "source": [
    "## Importing Required Libraries\n",
    "We start by importing the essential libraries:\n",
    "- **NumPy**: for numerical computations and handling arrays.  \n",
    "- **Pandas**: for loading and manipulating structured datasets.  \n",
    "- **Matplotlib**: for data visualization and plotting."
   ]
  },
  {
   "cell_type": "code",
   "execution_count": 19,
   "id": "e8b3dbe5",
   "metadata": {},
   "outputs": [],
   "source": [
    "import numpy as np\n",
    "import pandas as pd\n",
    "import matplotlib.pyplot as plt"
   ]
  },
  {
   "cell_type": "markdown",
   "id": "d5947741",
   "metadata": {},
   "source": [
    "## Loading the Dataset\n",
    "The MNIST handwritten digit dataset is loaded using Pandas.  \n",
    "- Each row represents one image.  \n",
    "- The first column contains the digit label (0–9).  \n",
    "- The remaining columns store the pixel values of the 28×28 image (flattened into 784 values)."
   ]
  },
  {
   "cell_type": "code",
   "execution_count": 22,
   "id": "293d634c",
   "metadata": {},
   "outputs": [],
   "source": [
    "data = pd.read_csv('./Datasets/train.csv')"
   ]
  },
  {
   "cell_type": "markdown",
   "id": "862d1be2",
   "metadata": {},
   "source": [
    "## Preprocessing the Data\n",
    "Steps performed here:\n",
    "1. Convert the Pandas DataFrame into a NumPy array for efficient computation.  \n",
    "2. Shuffle the dataset to remove ordering bias.  \n",
    "3. Split the dataset into:\n",
    "   - **Development set (1000 samples)** → used for quick validation/testing.  \n",
    "   - **Training set (remaining samples)** → used to train the neural network.  \n",
    "4. Separate features (`X`) and labels (`Y`), and transpose for easier handling in matrix operations."
   ]
  },
  {
   "cell_type": "code",
   "execution_count": 23,
   "id": "c27ca536",
   "metadata": {},
   "outputs": [],
   "source": [
    "data = np.array(data)\n",
    "m, n = data.shape\n",
    "np.random.shuffle(data) # shuffle before splitting into dev and training sets\n",
    "\n",
    "data_dev = data[0:1000].T\n",
    "Y_dev = data_dev[0]\n",
    "X_dev = data_dev[1:n]\n",
    "X_dev = X_dev / 255.\n",
    "\n",
    "data_train = data[1000:m].T\n",
    "Y_train = data_train[0]\n",
    "X_train = data_train[1:n]\n",
    "X_train = X_train / 255.\n",
    "_,m_train = X_train.shape"
   ]
  },
  {
   "cell_type": "code",
   "execution_count": 24,
   "id": "89a05997",
   "metadata": {},
   "outputs": [
    {
     "data": {
      "text/plain": [
       "(784,)"
      ]
     },
     "execution_count": 24,
     "metadata": {},
     "output_type": "execute_result"
    }
   ],
   "source": [
    "X_train[:, 0].shape"
   ]
  },
  {
   "cell_type": "markdown",
   "id": "4ca10842",
   "metadata": {},
   "source": [
    "## Defining the Neural Network Functions\n",
    "Here we define the essential building blocks of a simple **2-layer neural network**:\n",
    "\n",
    "- **init_params()** → Initializes weights and biases randomly for each layer.  \n",
    "- **ReLU()** → Activation function for hidden layer, introduces non-linearity.  \n",
    "- **softMax()** → Converts raw scores into probability distributions for classification.  \n",
    "- **forward_prop()** → Performs forward propagation (input → hidden → output).  \n",
    "- **one_hot()** → Converts labels into one-hot encoded format for multi-class classification.  \n",
    "- **deriv_ReLU()** → Derivative of ReLU, needed for backpropagation.  \n",
    "- **backward_prop()** → Calculates gradients of loss w.r.t parameters.  \n",
    "- **update_params()** → Updates weights and biases using gradient descent."
   ]
  },
  {
   "cell_type": "code",
   "execution_count": 25,
   "id": "abc48847",
   "metadata": {},
   "outputs": [],
   "source": [
    "def init_params():\n",
    "    W1 = np.random.rand(10, 784) - 0.5\n",
    "    b1 = np.random.rand(10, 1) - 0.5\n",
    "    W2 = np.random.rand(10, 10) - 0.5\n",
    "    b2 = np.random.rand(10, 1) - 0.5\n",
    "    return W1, b1, W2, b2\n",
    "\n",
    "def ReLU(Z):\n",
    "    return np.maximum(Z, 0)\n",
    "\n",
    "def softmax(Z):\n",
    "    A = np.exp(Z) / sum(np.exp(Z))\n",
    "    return A\n",
    "    \n",
    "def forward_prop(W1, b1, W2, b2, X):\n",
    "    Z1 = W1.dot(X) + b1\n",
    "    A1 = ReLU(Z1)\n",
    "    Z2 = W2.dot(A1) + b2\n",
    "    A2 = softmax(Z2)\n",
    "    return Z1, A1, Z2, A2\n",
    "\n",
    "def ReLU_deriv(Z):\n",
    "    return Z > 0\n",
    "\n",
    "def one_hot(Y):\n",
    "    one_hot_Y = np.zeros((Y.size, Y.max() + 1))\n",
    "    one_hot_Y[np.arange(Y.size), Y] = 1\n",
    "    one_hot_Y = one_hot_Y.T\n",
    "    return one_hot_Y\n",
    "\n",
    "def backward_prop(Z1, A1, Z2, A2, W1, W2, X, Y):\n",
    "    one_hot_Y = one_hot(Y)\n",
    "    dZ2 = A2 - one_hot_Y\n",
    "    dW2 = 1 / m * dZ2.dot(A1.T)\n",
    "    db2 = 1 / m * np.sum(dZ2)\n",
    "    dZ1 = W2.T.dot(dZ2) * ReLU_deriv(Z1)\n",
    "    dW1 = 1 / m * dZ1.dot(X.T)\n",
    "    db1 = 1 / m * np.sum(dZ1)\n",
    "    return dW1, db1, dW2, db2\n",
    "\n",
    "def update_params(W1, b1, W2, b2, dW1, db1, dW2, db2, alpha):\n",
    "    W1 = W1 - alpha * dW1\n",
    "    b1 = b1 - alpha * db1    \n",
    "    W2 = W2 - alpha * dW2  \n",
    "    b2 = b2 - alpha * db2    \n",
    "    return W1, b1, W2, b2"
   ]
  },
  {
   "cell_type": "markdown",
   "id": "ac2de50f",
   "metadata": {},
   "source": [
    "## Training the Neural Network\n",
    "Now we implement the main training loop with **gradient descent**:\n",
    "- **get_predictions()** → Returns the predicted class for each input.  \n",
    "- **get_accuracy()** → Calculates accuracy by comparing predictions with true labels.  \n",
    "- **gradient_descent()** →  \n",
    "  - Initializes parameters.  \n",
    "  - Repeatedly performs forward + backward propagation.  \n",
    "  - Updates parameters using gradients.  \n",
    "  - Prints accuracy at intervals to track training progress.  \n"
   ]
  },
  {
   "cell_type": "code",
   "execution_count": 26,
   "id": "1f6d5c54",
   "metadata": {},
   "outputs": [],
   "source": [
    "\n",
    "\n",
    "def get_predictions(A2):\n",
    "    return np.argmax(A2, 0)\n",
    "\n",
    "def get_accuracy(predictions, Y):\n",
    "    print(predictions, Y)\n",
    "    return np.sum(predictions == Y) / Y.size\n",
    "\n",
    "def gradient_descent(X, Y, alpha, iterations):\n",
    "    W1, b1, W2, b2 = init_params()\n",
    "    for i in range(iterations):\n",
    "        Z1, A1, Z2, A2 = forward_prop(W1, b1, W2, b2, X)\n",
    "        dW1, db1, dW2, db2 = backward_prop(Z1, A1, Z2, A2, W1, W2, X, Y)\n",
    "        W1, b1, W2, b2 = update_params(W1, b1, W2, b2, dW1, db1, dW2, db2, alpha)\n",
    "        if i % 10 == 0:\n",
    "            print(\"Iteration: \", i)\n",
    "            predictions = get_predictions(A2)\n",
    "            print(get_accuracy(predictions, Y))\n",
    "    return W1, b1, W2, b2\n"
   ]
  },
  {
   "cell_type": "markdown",
   "id": "947d3835",
   "metadata": {},
   "source": [
    "## Running Gradient Descent\n",
    "We now train the neural network on the MNIST training data:  \n",
    "- Learning rate (**alpha**) = 0.01  \n",
    "- Iterations = 500  \n",
    "\n",
    "The network will gradually improve accuracy with each iteration."
   ]
  },
  {
   "cell_type": "code",
   "execution_count": 27,
   "id": "557ff036",
   "metadata": {},
   "outputs": [
    {
     "name": "stdout",
     "output_type": "stream",
     "text": [
      "Iteration:  0\n",
      "[6 7 5 ... 7 5 6] [0 8 2 ... 6 4 3]\n",
      "0.09041463414634146\n",
      "Iteration:  10\n",
      "[0 8 5 ... 8 5 3] [0 8 2 ... 6 4 3]\n",
      "0.2045121951219512\n",
      "Iteration:  20\n",
      "[0 8 3 ... 8 5 3] [0 8 2 ... 6 4 3]\n",
      "0.3384390243902439\n",
      "Iteration:  30\n",
      "[0 8 0 ... 8 5 3] [0 8 2 ... 6 4 3]\n",
      "0.4369512195121951\n",
      "Iteration:  40\n",
      "[0 6 0 ... 8 5 3] [0 8 2 ... 6 4 3]\n",
      "0.5222926829268293\n",
      "Iteration:  50\n",
      "[0 6 0 ... 6 5 3] [0 8 2 ... 6 4 3]\n",
      "0.5886829268292683\n",
      "Iteration:  60\n",
      "[0 6 0 ... 6 5 3] [0 8 2 ... 6 4 3]\n",
      "0.6329268292682927\n",
      "Iteration:  70\n",
      "[0 6 0 ... 6 5 3] [0 8 2 ... 6 4 3]\n",
      "0.6639756097560976\n",
      "Iteration:  80\n",
      "[0 6 0 ... 6 5 3] [0 8 2 ... 6 4 3]\n",
      "0.6881463414634146\n",
      "Iteration:  90\n",
      "[0 6 0 ... 6 5 3] [0 8 2 ... 6 4 3]\n",
      "0.707\n",
      "Iteration:  100\n",
      "[0 6 0 ... 6 5 3] [0 8 2 ... 6 4 3]\n",
      "0.7250243902439024\n",
      "Iteration:  110\n",
      "[0 6 0 ... 6 5 3] [0 8 2 ... 6 4 3]\n",
      "0.7388536585365854\n",
      "Iteration:  120\n",
      "[0 6 0 ... 6 5 3] [0 8 2 ... 6 4 3]\n",
      "0.7504146341463415\n",
      "Iteration:  130\n",
      "[0 6 0 ... 6 5 3] [0 8 2 ... 6 4 3]\n",
      "0.7609756097560976\n",
      "Iteration:  140\n",
      "[0 6 0 ... 6 5 3] [0 8 2 ... 6 4 3]\n",
      "0.7698048780487805\n",
      "Iteration:  150\n",
      "[0 6 0 ... 6 5 3] [0 8 2 ... 6 4 3]\n",
      "0.777219512195122\n",
      "Iteration:  160\n",
      "[0 6 0 ... 6 5 3] [0 8 2 ... 6 4 3]\n",
      "0.784\n",
      "Iteration:  170\n",
      "[0 6 0 ... 6 5 3] [0 8 2 ... 6 4 3]\n",
      "0.7892926829268293\n",
      "Iteration:  180\n",
      "[0 6 0 ... 6 5 3] [0 8 2 ... 6 4 3]\n",
      "0.7952682926829269\n",
      "Iteration:  190\n",
      "[0 6 0 ... 6 5 3] [0 8 2 ... 6 4 3]\n",
      "0.8005853658536586\n",
      "Iteration:  200\n",
      "[0 6 0 ... 6 5 3] [0 8 2 ... 6 4 3]\n",
      "0.8049512195121952\n",
      "Iteration:  210\n",
      "[0 6 0 ... 6 5 3] [0 8 2 ... 6 4 3]\n",
      "0.8091219512195122\n",
      "Iteration:  220\n",
      "[0 6 0 ... 6 5 3] [0 8 2 ... 6 4 3]\n",
      "0.8123414634146342\n",
      "Iteration:  230\n",
      "[0 6 0 ... 6 5 3] [0 8 2 ... 6 4 3]\n",
      "0.8159024390243902\n",
      "Iteration:  240\n",
      "[0 6 0 ... 6 5 3] [0 8 2 ... 6 4 3]\n",
      "0.8187560975609756\n",
      "Iteration:  250\n",
      "[0 6 0 ... 6 5 3] [0 8 2 ... 6 4 3]\n",
      "0.8215853658536585\n",
      "Iteration:  260\n",
      "[0 6 0 ... 6 5 3] [0 8 2 ... 6 4 3]\n",
      "0.8246341463414634\n",
      "Iteration:  270\n",
      "[0 6 0 ... 6 5 3] [0 8 2 ... 6 4 3]\n",
      "0.8273170731707317\n",
      "Iteration:  280\n",
      "[0 6 0 ... 6 5 3] [0 8 2 ... 6 4 3]\n",
      "0.8299512195121951\n",
      "Iteration:  290\n",
      "[0 6 0 ... 6 5 3] [0 8 2 ... 6 4 3]\n",
      "0.8323170731707317\n",
      "Iteration:  300\n",
      "[0 6 0 ... 6 5 3] [0 8 2 ... 6 4 3]\n",
      "0.8346341463414634\n",
      "Iteration:  310\n",
      "[0 6 0 ... 6 5 3] [0 8 2 ... 6 4 3]\n",
      "0.8369756097560975\n",
      "Iteration:  320\n",
      "[0 6 0 ... 6 5 3] [0 8 2 ... 6 4 3]\n",
      "0.8389756097560975\n",
      "Iteration:  330\n",
      "[0 6 0 ... 6 5 3] [0 8 2 ... 6 4 3]\n",
      "0.8408048780487805\n",
      "Iteration:  340\n",
      "[0 6 0 ... 6 5 3] [0 8 2 ... 6 4 3]\n",
      "0.8425121951219512\n",
      "Iteration:  350\n",
      "[0 6 0 ... 6 5 3] [0 8 2 ... 6 4 3]\n",
      "0.8441219512195122\n",
      "Iteration:  360\n",
      "[0 6 5 ... 6 5 3] [0 8 2 ... 6 4 3]\n",
      "0.8456585365853658\n",
      "Iteration:  370\n",
      "[0 6 5 ... 6 5 3] [0 8 2 ... 6 4 3]\n",
      "0.8469512195121951\n",
      "Iteration:  380\n",
      "[0 6 5 ... 6 5 3] [0 8 2 ... 6 4 3]\n",
      "0.8483414634146341\n",
      "Iteration:  390\n",
      "[0 6 5 ... 6 5 3] [0 8 2 ... 6 4 3]\n",
      "0.8493170731707317\n",
      "Iteration:  400\n",
      "[0 6 5 ... 6 5 3] [0 8 2 ... 6 4 3]\n",
      "0.8506585365853658\n",
      "Iteration:  410\n",
      "[0 6 5 ... 6 5 3] [0 8 2 ... 6 4 3]\n",
      "0.8519024390243902\n",
      "Iteration:  420\n",
      "[0 6 5 ... 6 5 3] [0 8 2 ... 6 4 3]\n",
      "0.8533170731707317\n",
      "Iteration:  430\n",
      "[0 6 5 ... 6 5 3] [0 8 2 ... 6 4 3]\n",
      "0.8544146341463414\n",
      "Iteration:  440\n",
      "[0 6 5 ... 6 4 3] [0 8 2 ... 6 4 3]\n",
      "0.855609756097561\n",
      "Iteration:  450\n",
      "[0 6 5 ... 6 4 3] [0 8 2 ... 6 4 3]\n",
      "0.8566829268292683\n",
      "Iteration:  460\n",
      "[0 6 5 ... 6 4 3] [0 8 2 ... 6 4 3]\n",
      "0.8575853658536585\n",
      "Iteration:  470\n",
      "[0 6 5 ... 6 4 3] [0 8 2 ... 6 4 3]\n",
      "0.8585609756097561\n",
      "Iteration:  480\n",
      "[0 6 5 ... 6 4 3] [0 8 2 ... 6 4 3]\n",
      "0.8596585365853658\n",
      "Iteration:  490\n",
      "[0 6 5 ... 6 4 3] [0 8 2 ... 6 4 3]\n",
      "0.8604634146341463\n"
     ]
    }
   ],
   "source": [
    "W1, b1, W2, b2 = gradient_descent(X_train, Y_train, 0.10, 500)"
   ]
  },
  {
   "cell_type": "code",
   "execution_count": 28,
   "id": "9841ddeb",
   "metadata": {},
   "outputs": [],
   "source": [
    "def make_predictions(X, W1, b1, W2, b2):\n",
    "    _, _, _, A2 = forward_prop(W1, b1, W2, b2, X)\n",
    "    predictions = get_predictions(A2)\n",
    "    return predictions\n",
    "\n",
    "def test_prediction(index, W1, b1, W2, b2):\n",
    "    current_image = X_train[:, index, None]\n",
    "    prediction = make_predictions(X_train[:, index, None], W1, b1, W2, b2)\n",
    "    label = Y_train[index]\n",
    "    print(\"Prediction: \", prediction)\n",
    "    print(\"Label: \", label)\n",
    "    \n",
    "    current_image = current_image.reshape((28, 28)) * 255\n",
    "    plt.gray()\n",
    "    plt.imshow(current_image, interpolation='nearest')\n",
    "    plt.show()"
   ]
  },
  {
   "cell_type": "code",
   "execution_count": 30,
   "id": "b9eed3a6",
   "metadata": {},
   "outputs": [
    {
     "name": "stdout",
     "output_type": "stream",
     "text": [
      "Prediction:  [1]\n",
      "Label:  1\n"
     ]
    },
    {
     "data": {
      "image/png": "[encoded data removed]",
      "text/plain": [
       "<Figure size 640x480 with 1 Axes>"
      ]
     },
     "metadata": {},
     "output_type": "display_data"
    },
    {
     "name": "stdout",
     "output_type": "stream",
     "text": [
      "Prediction:  [6]\n",
      "Label:  6\n"
     ]
    },
    {
     "data": {
      "image/png": "[encoded data removed]",
      "text/plain": [
       "<Figure size 640x480 with 1 Axes>"
      ]
     },
     "metadata": {},
     "output_type": "display_data"
    },
    {
     "name": "stdout",
     "output_type": "stream",
     "text": [
      "Prediction:  [8]\n",
      "Label:  8\n"
     ]
    },
    {
     "data": {
      "image/png": "[encoded data removed]",
      "text/plain": [
       "<Figure size 640x480 with 1 Axes>"
      ]
     },
     "metadata": {},
     "output_type": "display_data"
    },
    {
     "name": "stdout",
     "output_type": "stream",
     "text": [
      "Prediction:  [6]\n",
      "Label:  6\n"
     ]
    },
    {
     "data": {
      "image/png": "[encoded data removed]",
      "text/plain": [
       "<Figure size 640x480 with 1 Axes>"
      ]
     },
     "metadata": {},
     "output_type": "display_data"
    }
   ],
   "source": [
    "test_prediction(50, W1, b1, W2, b2)\n",
    "test_prediction(21, W1, b1, W2, b2)\n",
    "test_prediction(87, W1, b1, W2, b2)\n",
    "test_prediction(12, W1, b1, W2, b2)"
   ]
  },
  {
   "cell_type": "code",
   "execution_count": 31,
   "id": "b0593706",
   "metadata": {},
   "outputs": [
    {
     "name": "stdout",
     "output_type": "stream",
     "text": [
      "[9 9 1 2 4 7 1 7 6 6 7 5 7 7 1 3 9 8 2 1 2 8 8 6 0 9 7 8 0 7 2 4 2 2 0 9 2\n",
      " 3 7 9 7 0 5 1 9 0 8 1 1 0 1 6 7 3 9 5 7 8 3 9 6 1 1 6 7 1 8 2 4 9 9 7 7 4\n",
      " 6 6 6 8 9 2 8 1 6 9 6 9 8 4 2 1 3 7 6 2 9 5 1 6 4 7 4 2 2 0 1 1 6 0 0 7 8\n",
      " 9 3 6 4 0 6 9 2 0 1 8 6 1 1 3 7 3 3 4 1 9 9 2 2 9 8 4 8 8 6 1 3 8 2 1 7 3\n",
      " 5 7 4 3 6 9 4 6 0 9 8 3 7 3 0 7 3 1 3 5 0 7 1 1 3 7 4 2 7 0 6 8 4 2 9 6 9\n",
      " 7 5 5 2 4 6 5 5 7 0 8 8 6 2 5 8 6 6 0 5 6 8 6 7 6 3 9 7 2 3 8 9 7 9 0 3 7\n",
      " 6 6 3 3 3 0 2 4 1 4 9 2 3 7 0 3 2 0 5 7 7 1 4 3 8 0 8 9 1 1 2 8 2 9 3 0 7\n",
      " 8 8 5 5 3 6 3 8 2 7 6 8 3 3 3 1 9 8 7 8 1 9 5 1 1 7 8 9 8 8 9 9 2 6 6 5 3\n",
      " 4 1 3 5 9 4 5 8 6 9 3 5 3 1 2 3 8 8 1 1 7 7 4 2 8 9 3 6 0 3 7 0 1 2 8 4 3\n",
      " 6 5 1 2 3 3 1 1 5 6 9 1 1 7 0 8 6 7 7 3 9 1 7 1 4 1 8 9 5 5 5 2 4 8 7 1 5\n",
      " 8 4 7 1 0 1 1 4 4 2 1 9 0 7 8 1 4 5 4 5 2 8 6 5 4 3 9 3 8 2 5 9 1 3 4 2 2\n",
      " 3 4 0 9 0 0 6 9 3 3 7 8 6 7 3 1 2 3 8 5 9 1 1 0 1 9 3 5 0 7 7 3 2 2 6 8 7\n",
      " 6 5 4 4 6 4 3 3 6 5 1 3 1 7 5 5 1 7 6 4 5 9 7 0 5 5 7 7 2 6 3 3 3 6 0 4 4\n",
      " 5 2 8 8 5 1 1 8 7 4 0 3 7 0 7 3 2 5 6 1 9 4 0 7 8 8 1 3 7 9 6 2 8 0 2 9 6\n",
      " 7 2 8 5 8 3 5 6 8 9 4 3 6 4 2 4 4 4 1 8 6 1 1 4 0 2 9 3 1 6 3 8 1 6 5 2 5\n",
      " 0 0 7 5 8 9 8 4 6 1 9 7 2 1 4 2 9 5 0 7 2 0 5 6 6 9 1 6 5 4 6 6 1 1 8 2 6\n",
      " 8 8 2 7 7 1 6 8 7 1 5 0 0 6 2 3 7 4 2 2 1 7 6 4 3 6 6 9 2 3 5 7 9 0 6 4 2\n",
      " 8 6 5 3 0 9 8 4 6 8 0 3 5 2 1 5 9 6 8 3 1 8 8 2 0 9 9 4 1 6 3 3 5 9 4 6 6\n",
      " 1 7 2 1 7 9 9 7 3 2 4 6 0 6 5 0 4 7 6 5 7 8 5 0 6 8 1 7 7 2 5 9 5 8 4 1 7\n",
      " 7 9 8 7 1 8 0 9 8 8 8 0 9 2 1 6 9 5 1 6 9 8 4 9 2 3 9 6 8 9 0 5 3 5 2 2 0\n",
      " 5 2 6 8 8 2 4 3 6 0 1 3 8 6 7 8 5 0 2 3 7 3 6 1 0 1 4 4 9 3 3 3 7 6 2 8 5\n",
      " 3 9 4 1 2 9 1 9 6 2 1 5 3 1 8 0 9 0 1 4 5 9 0 3 0 8 9 0 2 1 7 1 3 5 7 7 3\n",
      " 8 9 6 7 1 8 4 8 7 6 5 0 3 6 6 8 3 1 8 3 9 9 4 8 7 3 3 2 4 8 1 7 6 2 0 7 4\n",
      " 7 6 6 2 4 0 9 6 4 8 0 2 7 4 1 0 6 6 5 3 7 4 3 2 3 3 8 4 4 4 7 5 2 1 3 5 2\n",
      " 2 1 0 7 6 1 0 5 8 7 5 4 8 4 6 0 6 7 1 2 7 0 4 1 0 9 3 0 1 1 5 1 6 9 4 9 8\n",
      " 7 1 8 3 9 7 1 0 7 3 2 1 3 1 7 4 7 0 0 3 4 2 8 6 3 0 5 5 8 0 1 4 7 1 4 7 5\n",
      " 5 3 8 2 1 4 3 2 0 9 7 6 2 9 2 8 0 0 4 7 0 7 8 0 5 7 6 1 2 8 8 7 0 2 9 4 8\n",
      " 1] [9 9 1 2 4 7 1 7 6 6 7 5 7 5 1 3 9 8 2 1 2 8 8 6 0 4 7 8 0 7 2 4 2 2 0 9 2\n",
      " 9 7 9 7 0 5 1 9 0 8 1 1 0 1 6 7 3 9 8 7 8 3 9 6 1 1 6 2 1 8 2 4 4 9 7 7 4\n",
      " 6 6 6 8 9 8 8 1 6 9 6 9 2 4 2 1 3 7 6 2 9 0 1 6 4 7 4 2 2 0 1 1 6 0 0 7 8\n",
      " 9 3 6 4 0 2 9 2 0 1 5 6 1 1 3 7 3 1 2 1 9 9 2 3 9 8 4 8 5 6 1 3 8 2 1 7 3\n",
      " 5 7 4 3 6 9 9 6 5 4 8 3 7 3 0 7 3 1 3 5 0 7 1 1 3 7 4 2 7 0 6 8 4 2 9 6 9\n",
      " 7 5 5 6 4 6 5 0 7 0 8 8 6 2 5 8 6 6 0 5 6 3 6 7 6 3 9 7 2 3 8 9 7 9 0 3 7\n",
      " 0 6 8 3 3 0 2 2 1 4 9 2 3 9 0 3 7 0 5 7 1 1 4 3 8 0 8 4 1 1 2 8 2 9 3 0 7\n",
      " 8 8 5 8 3 8 3 8 2 7 6 8 3 8 3 1 9 8 7 8 1 4 5 6 1 7 8 9 5 8 9 9 2 6 2 5 3\n",
      " 9 1 3 5 9 4 8 8 6 9 3 3 3 1 8 3 8 8 1 1 7 7 4 2 8 9 3 6 0 0 7 0 1 2 8 4 3\n",
      " 2 5 1 2 3 3 1 1 5 6 9 1 1 7 0 8 4 7 7 2 9 1 7 1 4 1 8 9 3 5 5 2 4 8 7 1 5\n",
      " 8 4 7 1 0 1 1 4 4 2 1 9 6 7 8 1 4 5 4 5 2 9 6 5 4 3 5 5 8 2 7 9 7 8 4 2 2\n",
      " 3 4 0 9 0 0 6 9 5 2 7 1 6 7 3 1 2 3 8 5 7 1 1 0 1 2 3 5 5 7 7 3 2 2 6 8 7\n",
      " 6 5 4 4 6 4 3 2 0 0 1 3 4 9 5 5 1 7 6 4 5 9 7 0 6 3 7 7 2 6 3 3 2 5 0 4 4\n",
      " 5 2 8 8 5 1 1 8 7 4 0 8 9 0 7 3 2 3 6 1 9 4 0 7 6 8 4 3 7 7 6 3 8 0 2 9 6\n",
      " 7 2 8 5 8 3 5 6 8 9 4 3 6 4 2 4 4 4 1 8 2 1 1 4 0 2 9 3 1 6 3 8 1 6 5 2 5\n",
      " 0 0 7 5 8 4 5 4 6 1 9 7 3 1 4 2 7 5 7 7 2 0 5 6 6 9 1 6 5 4 6 6 1 1 8 2 6\n",
      " 8 8 2 7 7 1 6 8 7 1 9 0 0 6 2 3 2 4 2 2 1 7 5 4 3 6 6 9 2 3 9 7 9 0 6 4 2\n",
      " 8 6 5 3 0 7 2 4 6 8 0 3 5 2 1 5 9 6 8 3 8 8 8 3 0 9 9 2 1 6 3 3 0 9 4 6 6\n",
      " 1 7 2 1 7 9 9 7 3 2 4 6 0 6 5 0 4 7 6 5 7 8 5 8 9 8 1 7 7 2 5 9 9 8 4 1 7\n",
      " 7 9 5 2 1 5 0 9 8 5 8 0 9 2 1 3 9 5 1 6 9 9 4 9 2 3 9 6 8 9 0 5 3 5 8 2 0\n",
      " 8 2 6 8 8 2 4 3 6 0 1 3 8 6 9 8 5 0 2 8 7 8 6 1 2 1 4 4 9 3 3 3 7 6 2 5 4\n",
      " 3 4 4 1 2 9 1 9 6 2 1 5 7 1 8 0 9 0 1 4 5 9 0 3 7 8 9 0 2 1 7 1 3 5 7 7 3\n",
      " 8 9 6 7 1 8 4 8 7 6 5 0 3 6 6 8 3 1 8 3 4 5 4 8 7 3 3 2 4 8 1 7 8 2 0 7 8\n",
      " 7 6 6 3 4 0 7 6 4 8 0 7 7 4 1 0 6 0 3 3 7 4 3 2 3 3 8 4 0 5 9 5 2 8 3 9 2\n",
      " 2 1 0 7 6 1 7 5 8 7 5 4 8 6 6 0 6 7 1 2 8 0 4 1 0 9 3 0 1 1 5 1 6 9 4 9 5\n",
      " 7 1 8 5 9 7 1 0 7 3 5 1 3 1 7 4 7 0 0 3 4 2 8 6 3 5 5 3 4 0 1 4 7 1 4 7 5\n",
      " 5 3 8 2 1 4 3 2 0 9 7 6 2 9 2 8 0 0 4 7 0 7 5 0 0 7 6 1 2 3 8 7 0 2 3 4 8\n",
      " 1]\n"
     ]
    },
    {
     "data": {
      "text/plain": [
       "np.float64(0.864)"
      ]
     },
     "execution_count": 31,
     "metadata": {},
     "output_type": "execute_result"
    }
   ],
   "source": [
    "dev_predictions = make_predictions(X_dev, W1, b1, W2, b2)\n",
    "get_accuracy(dev_predictions, Y_dev)"
   ]
  }
 ],
 "metadata": {
  "kernelspec": {
   "display_name": ".venv",
   "language": "python",
   "name": "python3"
  },
  "language_info": {
   "codemirror_mode": {
    "name": "ipython",
    "version": 3
   },
   "file_extension": ".py",
   "mimetype": "text/x-python",
   "name": "python",
   "nbconvert_exporter": "python",
   "pygments_lexer": "ipython3",
   "version": "3.13.2"
  }
 },
 "nbformat": 4,
 "nbformat_minor": 5
}
